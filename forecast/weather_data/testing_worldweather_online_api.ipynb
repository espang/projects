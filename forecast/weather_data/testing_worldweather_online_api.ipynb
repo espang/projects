{
 "cells": [
  {
   "cell_type": "code",
   "execution_count": 1,
   "metadata": {
    "collapsed": true
   },
   "outputs": [],
   "source": [
    "with open('./my_key.key', 'r') as f:\n",
    "    api_key = next(f)\n"
   ]
  },
  {
   "cell_type": "code",
   "execution_count": 55,
   "metadata": {
    "collapsed": true
   },
   "outputs": [],
   "source": [
    "import datetime\n",
    "import requests\n",
    "\n",
    "import pandas as pd\n",
    "\n",
    "import matplotlib.pyplot as plt\n",
    "import seaborn as sns\n",
    "\n",
    "%matplotlib inline"
   ]
  },
  {
   "cell_type": "code",
   "execution_count": 34,
   "metadata": {
    "collapsed": true
   },
   "outputs": [],
   "source": [
    "hist_base_url = 'https://api.worldweatheronline.com/free/v2/past-weather.ashx'\n",
    "base_url = 'https://api.worldweatheronline.com/free/v2/weather.ashx'\n",
    "url = '{base_url}?key={api_key}&q={location}&num_of_days=3&tp=3&format=json&cc=no&extra=utcDateTime'.format(\n",
    "    base_url=base_url,\n",
    "    api_key=api_key,\n",
    "    location='Aachen',\n",
    ")\n",
    "#dates in yyyy-MM-dd\n",
    "hist_url = '{base_url}?key={api_key}&q={location}&date={start}&enddate={end}&tp=3&format=json&cc=no&extra=utcDateTime'.format(\n",
    "    base_url=hist_base_url,\n",
    "    api_key=api_key,\n",
    "    location='Aachen',\n",
    "    start='2016-01-01',\n",
    "    end='2016-02-28',\n",
    ")\n"
   ]
  },
  {
   "cell_type": "code",
   "execution_count": 4,
   "metadata": {
    "collapsed": true
   },
   "outputs": [],
   "source": [
    "resp = requests.get(url)"
   ]
  },
  {
   "cell_type": "code",
   "execution_count": 6,
   "metadata": {
    "collapsed": false
   },
   "outputs": [],
   "source": [
    "data = resp.json()\n"
   ]
  },
  {
   "cell_type": "code",
   "execution_count": 9,
   "metadata": {
    "collapsed": false
   },
   "outputs": [
    {
     "data": {
      "text/plain": [
       "['request', 'current_condition', 'weather']"
      ]
     },
     "execution_count": 9,
     "metadata": {},
     "output_type": "execute_result"
    }
   ],
   "source": [
    "list(data['data'].keys())"
   ]
  },
  {
   "cell_type": "code",
   "execution_count": 16,
   "metadata": {
    "collapsed": false
   },
   "outputs": [],
   "source": [
    "#data['data']['request']"
   ]
  },
  {
   "cell_type": "code",
   "execution_count": 15,
   "metadata": {
    "collapsed": false
   },
   "outputs": [],
   "source": [
    "#data['data']['current_condition']"
   ]
  },
  {
   "cell_type": "code",
   "execution_count": 14,
   "metadata": {
    "collapsed": false
   },
   "outputs": [],
   "source": [
    "#data['data']['weather']"
   ]
  },
  {
   "cell_type": "code",
   "execution_count": 31,
   "metadata": {
    "collapsed": true
   },
   "outputs": [],
   "source": [
    "hist_resp = requests.get(hist_url)"
   ]
  },
  {
   "cell_type": "code",
   "execution_count": 32,
   "metadata": {
    "collapsed": true
   },
   "outputs": [],
   "source": [
    "hist_data = hist_resp.json()"
   ]
  },
  {
   "cell_type": "code",
   "execution_count": 39,
   "metadata": {
    "collapsed": false
   },
   "outputs": [
    {
     "data": {
      "text/plain": [
       "['uvIndex',\n",
       " 'mintempC',\n",
       " 'maxtempC',\n",
       " 'hourly',\n",
       " 'mintempF',\n",
       " 'date',\n",
       " 'maxtempF',\n",
       " 'astronomy']"
      ]
     },
     "execution_count": 39,
     "metadata": {},
     "output_type": "execute_result"
    }
   ],
   "source": [
    "list(hist_data['data']['weather'][0].keys())"
   ]
  },
  {
   "cell_type": "code",
   "execution_count": 68,
   "metadata": {
    "collapsed": false
   },
   "outputs": [],
   "source": [
    "dts = []\n",
    "vals = []\n",
    "idxs = []\n",
    "weather_descritpions = set()\n",
    "for element in hist_data['data']['weather']:\n",
    "    for hour_element in element['hourly']:\n",
    "        year, month, day = list(map(int, hour_element.get('UTCdate').split('-')))\n",
    "        time = int(hour_element.get('UTCtime'))\n",
    "        hour, minute = time//100, time%100\n",
    "        dt = datetime.datetime(year, month, day, hour, minute, 0)\n",
    "        dts.append(dt)\n",
    "        weather_descritpions.add(hour_element.get('weatherDesc')[0].get('value'))\n",
    "        vals.append(float(hour_element.get('tempC')))\n",
    "        idxs.append(float(hour_element.get('HeatIndexC')))"
   ]
  },
  {
   "cell_type": "code",
   "execution_count": 69,
   "metadata": {
    "collapsed": false
   },
   "outputs": [],
   "source": [
    "#hist_data['data']['weather']"
   ]
  },
  {
   "cell_type": "code",
   "execution_count": null,
   "metadata": {
    "collapsed": true
   },
   "outputs": [],
   "source": []
  },
  {
   "cell_type": "code",
   "execution_count": 70,
   "metadata": {
    "collapsed": false
   },
   "outputs": [
    {
     "data": {
      "text/plain": [
       "[<matplotlib.lines.Line2D at 0x1a7f8bbeeb8>]"
      ]
     },
     "execution_count": 70,
     "metadata": {},
     "output_type": "execute_result"
    },
    {
     "data": {
      "image/png": "[encoded data removed]",
      "text/plain": [
       "<matplotlib.figure.Figure at 0x1a7f83434a8>"
      ]
     },
     "metadata": {},
     "output_type": "display_data"
    }
   ],
   "source": [
    "plt.figure(figsize=(15, 8))\n",
    "plt.step(dts, vals)\n",
    "plt.step(dts, idxs)"
   ]
  },
  {
   "cell_type": "code",
   "execution_count": 66,
   "metadata": {
    "collapsed": false
   },
   "outputs": [
    {
     "data": {
      "text/plain": [
       "{'Clear',\n",
       " 'Cloudy',\n",
       " 'Light drizzle',\n",
       " 'Light rain',\n",
       " 'Light rain shower',\n",
       " 'Light sleet',\n",
       " 'Light sleet showers',\n",
       " 'Light snow',\n",
       " 'Light snow showers',\n",
       " 'Mist',\n",
       " 'Moderate or heavy rain in area with thunder',\n",
       " 'Moderate rain',\n",
       " 'Overcast',\n",
       " 'Partly Cloudy',\n",
       " 'Patchy light drizzle',\n",
       " 'Patchy light rain',\n",
       " 'Patchy rain nearby',\n",
       " 'Patchy sleet nearby',\n",
       " 'Sunny',\n",
       " 'Thundery outbreaks in nearby'}"
      ]
     },
     "execution_count": 66,
     "metadata": {},
     "output_type": "execute_result"
    }
   ],
   "source": [
    "weather_descritpions"
   ]
  },
  {
   "cell_type": "code",
   "execution_count": null,
   "metadata": {
    "collapsed": true
   },
   "outputs": [],
   "source": []
  }
 ],
 "metadata": {
  "kernelspec": {
   "display_name": "Python 3",
   "language": "python",
   "name": "python3"
  },
  "language_info": {
   "codemirror_mode": {
    "name": "ipython",
    "version": 3
   },
   "file_extension": ".py",
   "mimetype": "text/x-python",
   "name": "python",
   "nbconvert_exporter": "python",
   "pygments_lexer": "ipython3",
   "version": "3.5.0"
  }
 },
 "nbformat": 4,
 "nbformat_minor": 0
}
